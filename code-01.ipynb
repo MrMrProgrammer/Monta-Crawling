{
 "cells": [
  {
   "cell_type": "code",
   "execution_count": 7,
   "metadata": {
    "ExecuteTime": {
     "end_time": "2023-11-04T05:01:31.931468402Z",
     "start_time": "2023-11-04T05:01:31.890628245Z"
    }
   },
   "outputs": [],
   "source": [
    "from selenium import webdriver\n",
    "from selenium.webdriver.common.by import By\n",
    "from selenium.webdriver.chrome.service import Service as ChromeService\n",
    "from webdriver_manager.chrome import ChromeDriverManager\n",
    "from time import sleep\n",
    "from selenium.webdriver import Keys"
   ]
  },
  {
   "cell_type": "code",
   "execution_count": 8,
   "metadata": {
    "ExecuteTime": {
     "end_time": "2023-11-04T05:01:32.175088491Z",
     "start_time": "2023-11-04T05:01:32.169607750Z"
    }
   },
   "outputs": [],
   "source": [
    "username = '2838697'\n",
    "password = 'a12345'\n",
    "url = 'https://www.monta.ir/'"
   ]
  },
  {
   "cell_type": "code",
   "execution_count": null,
   "metadata": {
    "is_executing": true,
    "ExecuteTime": {
     "start_time": "2023-11-04T05:06:03.949479663Z"
    }
   },
   "outputs": [],
   "source": [
    "driver = webdriver.Chrome(service=ChromeService(ChromeDriverManager().install()))\n",
    "\n",
    "driver.get(url)\n",
    "\n",
    "driver.maximize_window()\n",
    "\n",
    "sleep(3)\n",
    "\n",
    "username_element = driver.find_element(By.ID, 'userName').send_keys(username)\n",
    "\n",
    "password_element = driver.find_element(By.ID, 'password').send_keys(password)\n",
    "\n",
    "login_element = driver.find_element(By.ID, 'btn-enter-login-landing').click()\n",
    "\n",
    "sleep(15)\n",
    "\n",
    "driver.get('https://app.monta.ir/gwt/#!examGenerator')\n",
    "\n",
    "sleep(2)\n",
    "\n",
    "select_12th = driver.find_element(By.XPATH, '//*[@id=\"gwt-uid-1171\"]/div[1]/div[3]/label/span').click()\n",
    "\n",
    "sleep(1)\n",
    "\n",
    "\n"
   ]
  },
  {
   "cell_type": "code",
   "execution_count": null,
   "metadata": {},
   "outputs": [],
   "source": []
  }
 ],
 "metadata": {
  "kernelspec": {
   "display_name": "venv",
   "language": "python",
   "name": "python3"
  },
  "language_info": {
   "codemirror_mode": {
    "name": "ipython",
    "version": 3
   },
   "file_extension": ".py",
   "mimetype": "text/x-python",
   "name": "python",
   "nbconvert_exporter": "python",
   "pygments_lexer": "ipython3",
   "version": "3.10.12"
  }
 },
 "nbformat": 4,
 "nbformat_minor": 2
}
