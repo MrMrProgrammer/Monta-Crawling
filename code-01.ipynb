{
 "cells": [
  {
   "cell_type": "code",
   "execution_count": 13,
   "metadata": {
    "ExecuteTime": {
     "end_time": "2023-11-04T05:10:40.832466076Z",
     "start_time": "2023-11-04T05:10:40.790712259Z"
    }
   },
   "outputs": [],
   "source": [
    "from selenium import webdriver\n",
    "from selenium.webdriver.common.by import By\n",
    "from selenium.webdriver.chrome.service import Service as ChromeService\n",
    "from webdriver_manager.chrome import ChromeDriverManager\n",
    "from time import sleep\n",
    "from selenium.webdriver import Keys"
   ]
  },
  {
   "cell_type": "code",
   "execution_count": 14,
   "metadata": {
    "ExecuteTime": {
     "end_time": "2023-11-04T05:10:40.987706543Z",
     "start_time": "2023-11-04T05:10:40.983102334Z"
    }
   },
   "outputs": [],
   "source": [
    "username = '2838697'\n",
    "password = 'a12345'\n",
    "url = 'https://www.monta.ir/'"
   ]
  },
  {
   "cell_type": "code",
   "execution_count": 29,
   "metadata": {
    "ExecuteTime": {
     "end_time": "2023-11-04T05:40:03.126568287Z",
     "start_time": "2023-11-04T05:39:27.430614690Z"
    }
   },
   "outputs": [
    {
     "name": "stdout",
     "output_type": "stream",
     "text": [
      "The login page is opened.\n",
      "======================================\n",
      "We entered the user account.\n",
      "======================================\n",
      "The field selection page is opened.\n",
      "======================================\n",
      "The 12th grade was selected.\n",
      "======================================\n",
      "Mathematics was chosen.\n",
      "======================================\n",
      "You have entered the topic selection page.\n",
      "======================================\n",
      "Mathematics was chosen.\n",
      "======================================\n",
      "Discrete mathematics was chosen.\n",
      "======================================\n",
      "You are on the FAQ page :))\n",
      "======================================\n",
      "ok1\n"
     ]
    }
   ],
   "source": [
    "driver = webdriver.Chrome(service=ChromeService(ChromeDriverManager().install()))\n",
    "\n",
    "driver.get(url)\n",
    "\n",
    "print('The login page is opened.\\n======================================')\n",
    "\n",
    "driver.maximize_window()\n",
    "\n",
    "sleep(3)\n",
    "\n",
    "username_element = driver.find_element(By.ID, 'userName').send_keys(username)\n",
    "\n",
    "password_element = driver.find_element(By.ID, 'password').send_keys(password)\n",
    "\n",
    "login_element = driver.find_element(By.ID, 'btn-enter-login-landing').click()\n",
    "\n",
    "sleep(15)\n",
    "\n",
    "print('We entered the user account.\\n======================================')\n",
    "\n",
    "driver.get('https://app.monta.ir/gwt/#!examGenerator')\n",
    "\n",
    "sleep(3)\n",
    "\n",
    "print('The field selection page is opened.\\n======================================')\n",
    "\n",
    "select_12th = driver.find_element(By.XPATH, '//*[@id=\"gwt-uid-1171\"]/div[1]/div[3]/label').click()\n",
    "\n",
    "sleep(1)\n",
    "\n",
    "print('The 12th grade was selected.\\n======================================')\n",
    "\n",
    "select_math = driver.find_element(By.XPATH, '//*[@id=\"gwt-uid-1178\"]/div[1]/div[2]/label').click()\n",
    "\n",
    "sleep(1)\n",
    "\n",
    "print('Mathematics was chosen.\\n======================================')\n",
    "\n",
    "select_entry_1 = driver.find_element(By.LINK_TEXT, 'ثبت').click()\n",
    "\n",
    "sleep(1)\n",
    "\n",
    "print('You have entered the topic selection page.\\n======================================')\n",
    "\n",
    "select_math_2 = driver.find_element(By.XPATH, '//*[@id=\"ft_mg_12_60_6\"]/span').click()\n",
    "\n",
    "sleep(1)\n",
    "\n",
    "print('Mathematics was chosen.\\n======================================')\n",
    "\n",
    "select_discrete = driver.find_element(By.XPATH, '//*[@id=\"ft_mo_12_60_418\"]/span/span[2]').click()\n",
    "\n",
    "sleep(1)\n",
    "\n",
    "print('Discrete mathematics was chosen.\\n======================================')\n",
    "\n",
    "select_entry_2 = driver.find_element(By.LINK_TEXT, 'ثبت').click()\n",
    "\n",
    "sleep(3)\n",
    "\n",
    "print('You are on the FAQ page :))\\n======================================')\n",
    "\n",
    "print('ok1')\n",
    "\n",
    "sleep(1)\n",
    "\n",
    "\n"
   ]
  },
  {
   "cell_type": "code",
   "execution_count": null,
   "metadata": {},
   "outputs": [],
   "source": []
  }
 ],
 "metadata": {
  "kernelspec": {
   "display_name": "venv",
   "language": "python",
   "name": "python3"
  },
  "language_info": {
   "codemirror_mode": {
    "name": "ipython",
    "version": 3
   },
   "file_extension": ".py",
   "mimetype": "text/x-python",
   "name": "python",
   "nbconvert_exporter": "python",
   "pygments_lexer": "ipython3",
   "version": "3.10.12"
  }
 },
 "nbformat": 4,
 "nbformat_minor": 2
}
